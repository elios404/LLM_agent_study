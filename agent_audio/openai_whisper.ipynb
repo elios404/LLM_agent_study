{
 "cells": [
  {
   "cell_type": "code",
   "execution_count": 1,
   "id": "685b822a",
   "metadata": {},
   "outputs": [],
   "source": [
    "from openai import OpenAI\n",
    "from dotenv import load_dotenv\n",
    "import os\n",
    "\n",
    "load_dotenv()\n",
    "api_key = os.getenv('OPENAI_API_KEY')\n",
    "\n",
    "client = OpenAI(api_key=api_key)"
   ]
  },
  {
   "cell_type": "code",
   "execution_count": 3,
   "id": "d16791ae",
   "metadata": {},
   "outputs": [
    {
     "name": "stdout",
     "output_type": "stream",
     "text": [
      "Transcription(text='안녕하세요. 이 강의는 GPT API로 챗봇 만들기라는 내용을 다루는 강의입니다. GPT API에 대해서 생소하신 분들도 있을 텐데 우리가 잘 알고 있는 채GPT, 채GPT 기능을 이용해서 우리가 원하는 프로그램을 어떻게 만드는지에 대해서 이야기할 거예요. 그래서 뭐 이런 강의들이 사실 많이 있습니다. 그래서 여러 가지들이 있는데 좀 이 강의의 특징이라고 한다면 GPT로 명확한 미션을 달성하는 챗봇 프로그램을 만드는 게 사실 쉽지는 않은데 이걸 어떻게 해서 구현을 하는지 그리고 그게 왜 필요한지에 대해서 좀 이야기를 할 거고요. 그 예제로 예제는 여러 가지가 될 수 있는데 여기서 예제로 하는 것은 음악 플레이리스트 동영상을 자동으로 대화를 통해서 생성하는 프로그램 만드는 것을 다루려고 합니다. 그래서 프로그램이 실행되는 모습을 한번 보여드릴게요. 우리가 만들 프로그램은 이런 식으로 이제 나타나게 되고', usage={'type': 'duration', 'seconds': 58})\n"
     ]
    }
   ],
   "source": [
    "audio_file_path = './audio/lsy_audio_2023_58s.mp3'\n",
    "\n",
    "with open(audio_file_path, 'rb') as audio_file: # 'rb' 바이너리 파일 읽기\n",
    "    transcription = client.audio.transcriptions.create(\n",
    "        model = 'whisper-1',\n",
    "        file = audio_file\n",
    "    )\n",
    "\n",
    "print(transcription)"
   ]
  },
  {
   "cell_type": "markdown",
   "id": "ad382025",
   "metadata": {},
   "source": [
    "## 한글 오디오 파일을 영어 txt로 변환하기"
   ]
  },
  {
   "cell_type": "code",
   "execution_count": null,
   "id": "c12e4d0e",
   "metadata": {},
   "outputs": [
    {
     "name": "stdout",
     "output_type": "stream",
     "text": [
      "Translation(text=\"Hello, this is a lecture on how to make a chatbot with GPT API. Some of you may be unfamiliar with GPT API. We're going to talk about how to make the program we want using the chat GPT function that we know well. So there are a lot of lectures like this. There are many things, but if I were to say the characteristics of this lecture, it's not easy to make a chatbot program that achieves a clear mission with GPT. I'm going to talk about how to implement this and why it's necessary. As an example, there can be many examples. The example here is to create a program that automatically creates a music playlist video through conversation. So let me show you how the program runs. The program we're going to make is going to look like this.\")\n"
     ]
    }
   ],
   "source": [
    "audio_file_path = './audio/lsy_audio_2023_58s.mp3'\n",
    "\n",
    "with open(audio_file_path, 'rb') as audio_file: # 'rb' 바이너리 파일 읽기 (음악 파일)\n",
    "    translation = client.audio.translations.create(\n",
    "        model = 'whisper-1',\n",
    "        file = audio_file\n",
    "    )\n",
    "\n",
    "print(translation)"
   ]
  },
  {
   "cell_type": "code",
   "execution_count": null,
   "id": "ee8085d9",
   "metadata": {},
   "outputs": [
    {
     "name": "stdout",
     "output_type": "stream",
     "text": [
      "Samhwa Heavy Industries Company Limited(삼화중공업 주식회사)는 한국에 기반을 둔 제조업체로, 가정용품 분야에서 최상의 공급자가 되기 위해 노력하고 있습니다. 1996년 설립 이래 다양한 생활용품을 공급해왔으며, 같은 해 ISO 9001 및 InnoBiz 14000 인증을 획득하여 당사의 꾸준한 품질 개선과 혁신 의지를 입증했습니다.\n",
      "\n",
      "삼화중공업은 주방용품과 욕실용품 등 가정용 제품을 주로 생산·공급합니다. 주요 제품으로는 커트러리(숟가락·포크·나이프), 믹싱볼·주전자·팬·스테인리스 압력솥 등 조리기구, 변기·세면기·샤워부스·스팀 사우나 등 욕실용품이 있으며, 옷걸이·칫솔꽂이·거울 등의 욕실 소품도 제공합니다.\n",
      "\n",
      "2009년 12월 31일 기준으로 당사는 4개의 자회사 및 관계회사를 보유하고 있습니다. 건자재 유통을 담당하는 국내 법인 D&D Partners Company Limited, 주방용품·가전 유통을 담당하는 국내 법인 Living Star, 서구식 테이블웨어 제조를 하는 인도네시아 법인 PTDLI, 건자재 제조를 담당하는 중국 법인 DBM이 그 예입니다.\n",
      "\n",
      "삼화중공업은 협력사와 함께 앞으로도 최고의 가정용품 공급자가 되어 여러분의 생활을 풍요롭게 하겠습니다. 밝은 미래를 함께 만들어갑니다. 삼화중공업 드림.\n"
     ]
    }
   ],
   "source": [
    "# 1단계 : 영어 오디오 -> 영어 텍스트\n",
    "\n",
    "audio_file_path = './audio/CF.mp3'\n",
    "\n",
    "with open(audio_file_path, 'rb') as audio_file: # 'rb' 바이너리 파일 읽기\n",
    "    transcription = client.audio.transcriptions.create(\n",
    "        model = 'whisper-1',\n",
    "        file = audio_file\n",
    "    )\n",
    "\n",
    "# 2단계 : 영어 텍스트 -> 한글 텍스트\n",
    "\n",
    "transcription_text = transcription.text # 음성 -> 텍스트 답변에서 실제 텍스트 부분만 가져오기\n",
    "\n",
    "translation = client.chat.completions.create(\n",
    "    model = 'gpt-5-mini',\n",
    "    messages= [\n",
    "        {'role' : 'system', 'content' : '너는 영어를 한국어로 변역해주는 번역 전문가야. 영어 문장을 한국어로 로컬라이징 해서 현지 한국어처럼 번역해줘'},\n",
    "        {'role' : 'user', 'content' : transcription_text}\n",
    "    ]\n",
    ")\n",
    "\n",
    "print(translation.choices[0].message.content)"
   ]
  }
 ],
 "metadata": {
  "kernelspec": {
   "display_name": "GJ_class",
   "language": "python",
   "name": "python3"
  },
  "language_info": {
   "codemirror_mode": {
    "name": "ipython",
    "version": 3
   },
   "file_extension": ".py",
   "mimetype": "text/x-python",
   "name": "python",
   "nbconvert_exporter": "python",
   "pygments_lexer": "ipython3",
   "version": "3.11.9"
  }
 },
 "nbformat": 4,
 "nbformat_minor": 5
}
