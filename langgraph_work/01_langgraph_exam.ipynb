{
 "cells": [
  {
   "cell_type": "code",
   "execution_count": 35,
   "id": "f4c9da5d",
   "metadata": {},
   "outputs": [
    {
     "data": {
      "text/plain": [
       "True"
      ]
     },
     "execution_count": 35,
     "metadata": {},
     "output_type": "execute_result"
    }
   ],
   "source": [
    "from dotenv import load_dotenv\n",
    "import os\n",
    "\n",
    "load_dotenv()"
   ]
  },
  {
   "cell_type": "code",
   "execution_count": 36,
   "id": "6147d2b1",
   "metadata": {},
   "outputs": [],
   "source": [
    "from textwrap import dedent\n",
    "from pprint import pprint"
   ]
  },
  {
   "cell_type": "code",
   "execution_count": 37,
   "id": "33391926",
   "metadata": {},
   "outputs": [
    {
     "name": "stdout",
     "output_type": "stream",
     "text": [
      "H\n",
      "------------------------------\n",
      "T\n",
      "------------------------------\n",
      "T\n",
      "------------------------------\n",
      "P\n",
      "------------------------------\n",
      "E\n",
      "------------------------------\n",
      "r\n",
      "------------------------------\n",
      "r\n",
      "------------------------------\n",
      "o\n",
      "------------------------------\n",
      "r\n",
      "------------------------------\n",
      "(\n",
      "------------------------------\n",
      "'\n",
      "------------------------------\n",
      "4\n",
      "------------------------------\n",
      "2\n",
      "------------------------------\n",
      "9\n",
      "------------------------------\n",
      " \n",
      "------------------------------\n",
      "C\n",
      "------------------------------\n",
      "l\n",
      "------------------------------\n",
      "i\n",
      "------------------------------\n",
      "e\n",
      "------------------------------\n",
      "n\n",
      "------------------------------\n",
      "t\n",
      "------------------------------\n",
      " \n",
      "------------------------------\n",
      "E\n",
      "------------------------------\n",
      "r\n",
      "------------------------------\n",
      "r\n",
      "------------------------------\n",
      "o\n",
      "------------------------------\n",
      "r\n",
      "------------------------------\n",
      ":\n",
      "------------------------------\n",
      " \n",
      "------------------------------\n",
      "T\n",
      "------------------------------\n",
      "o\n",
      "------------------------------\n",
      "o\n",
      "------------------------------\n",
      " \n",
      "------------------------------\n",
      "M\n",
      "------------------------------\n",
      "a\n",
      "------------------------------\n",
      "n\n",
      "------------------------------\n",
      "y\n",
      "------------------------------\n",
      " \n",
      "------------------------------\n",
      "R\n",
      "------------------------------\n",
      "e\n",
      "------------------------------\n",
      "q\n",
      "------------------------------\n",
      "u\n",
      "------------------------------\n",
      "e\n",
      "------------------------------\n",
      "s\n",
      "------------------------------\n",
      "t\n",
      "------------------------------\n",
      "s\n",
      "------------------------------\n",
      " \n",
      "------------------------------\n",
      "f\n",
      "------------------------------\n",
      "o\n",
      "------------------------------\n",
      "r\n",
      "------------------------------\n",
      " \n",
      "------------------------------\n",
      "u\n",
      "------------------------------\n",
      "r\n",
      "------------------------------\n",
      "l\n",
      "------------------------------\n",
      ":\n",
      "------------------------------\n",
      " \n",
      "------------------------------\n",
      "h\n",
      "------------------------------\n",
      "t\n",
      "------------------------------\n",
      "t\n",
      "------------------------------\n",
      "p\n",
      "------------------------------\n",
      "s\n",
      "------------------------------\n",
      ":\n",
      "------------------------------\n",
      "/\n",
      "------------------------------\n",
      "/\n",
      "------------------------------\n",
      "a\n",
      "------------------------------\n",
      "p\n",
      "------------------------------\n",
      "i\n",
      "------------------------------\n",
      ".\n",
      "------------------------------\n",
      "t\n",
      "------------------------------\n",
      "a\n",
      "------------------------------\n",
      "v\n",
      "------------------------------\n",
      "i\n",
      "------------------------------\n",
      "l\n",
      "------------------------------\n",
      "y\n",
      "------------------------------\n",
      ".\n",
      "------------------------------\n",
      "c\n",
      "------------------------------\n",
      "o\n",
      "------------------------------\n",
      "m\n",
      "------------------------------\n",
      "/\n",
      "------------------------------\n",
      "s\n",
      "------------------------------\n",
      "e\n",
      "------------------------------\n",
      "a\n",
      "------------------------------\n",
      "r\n",
      "------------------------------\n",
      "c\n",
      "------------------------------\n",
      "h\n",
      "------------------------------\n",
      "'\n",
      "------------------------------\n",
      ")\n",
      "------------------------------\n"
     ]
    }
   ],
   "source": [
    "from langchain_community.tools import TavilySearchResults\n",
    "\n",
    "query = \"스테이크와 어울리는 와인을 추천해 주세요.\"\n",
    "\n",
    "web_search = TavilySearchResults(max_results=2)\n",
    "\n",
    "search_results = web_search.invoke(query)\n",
    "\n",
    "for result in search_results:\n",
    "    print(result)\n",
    "    print(\"-\"*30)"
   ]
  },
  {
   "cell_type": "code",
   "execution_count": 24,
   "id": "16be6335",
   "metadata": {},
   "outputs": [
    {
     "name": "stdout",
     "output_type": "stream",
     "text": [
      "<class 'langchain_community.tools.tavily_search.tool.TavilySearchResults'>\n"
     ]
    }
   ],
   "source": [
    "print(type(web_search))"
   ]
  },
  {
   "cell_type": "code",
   "execution_count": 25,
   "id": "e94d90e0",
   "metadata": {},
   "outputs": [
    {
     "name": "stdout",
     "output_type": "stream",
     "text": [
      "tavily_search_results_json\n"
     ]
    }
   ],
   "source": [
    "print(web_search.name)"
   ]
  },
  {
   "cell_type": "code",
   "execution_count": 26,
   "id": "36b3ddc3",
   "metadata": {},
   "outputs": [
    {
     "name": "stdout",
     "output_type": "stream",
     "text": [
      "A search engine optimized for comprehensive, accurate, and trusted results. Useful for when you need to answer questions about current events. Input should be a search query.\n"
     ]
    }
   ],
   "source": [
    "print(web_search.description)"
   ]
  },
  {
   "cell_type": "code",
   "execution_count": 27,
   "id": "5cf7617e",
   "metadata": {},
   "outputs": [],
   "source": [
    "from langchain_openai import ChatOpenAI\n",
    "\n",
    "llm = ChatOpenAI(model='gpt-4o-mini')\n",
    "\n",
    "llm_with_tools = llm.bind_tools(tools=[web_search])"
   ]
  },
  {
   "cell_type": "code",
   "execution_count": 28,
   "id": "ebef9344",
   "metadata": {},
   "outputs": [
    {
     "name": "stdout",
     "output_type": "stream",
     "text": [
      "AIMessage(content='안녕하세요! 어떻게 도와드릴까요?', additional_kwargs={'refusal': None}, response_metadata={'token_usage': {'completion_tokens': 11, 'prompt_tokens': 82, 'total_tokens': 93, 'completion_tokens_details': {'accepted_prediction_tokens': 0, 'audio_tokens': 0, 'reasoning_tokens': 0, 'rejected_prediction_tokens': 0}, 'prompt_tokens_details': {'audio_tokens': 0, 'cached_tokens': 0}}, 'model_name': 'gpt-4o-mini-2024-07-18', 'system_fingerprint': 'fp_560af6e559', 'finish_reason': 'stop', 'logprobs': None}, id='run--e23dbd27-12ab-4c83-a1ad-7eac2fe2f674-0', usage_metadata={'input_tokens': 82, 'output_tokens': 11, 'total_tokens': 93})\n",
      "--------------------------------------------------\n",
      "'안녕하세요! 어떻게 도와드릴까요?'\n",
      "--------------------------------------------------\n",
      "[]\n",
      "--------------------------------------------------\n"
     ]
    }
   ],
   "source": [
    "query = \"안녕하세요.\"\n",
    "\n",
    "ai_msg = llm_with_tools.invoke(query)\n",
    "\n",
    "pprint(ai_msg)\n",
    "print(\"-\"*50)\n",
    "\n",
    "pprint(ai_msg.content)\n",
    "print(\"-\"*50)\n",
    "\n",
    "pprint(ai_msg.tool_calls) #\"안녕하세요\" 는 Tavily search를 사용할 필요가 없다고 판단, 사용하지 않음.\n",
    "print(\"-\"*50)"
   ]
  },
  {
   "cell_type": "code",
   "execution_count": 29,
   "id": "d70152ce",
   "metadata": {},
   "outputs": [
    {
     "name": "stdout",
     "output_type": "stream",
     "text": [
      "AIMessage(content='', additional_kwargs={'tool_calls': [{'id': 'call_GIRlAm1DQP50RbeCmAPNmRSI', 'function': {'arguments': '{\"query\":\"스테이크와 어울리는 와인 추천\"}', 'name': 'tavily_search_results_json'}, 'type': 'function'}], 'refusal': None}, response_metadata={'token_usage': {'completion_tokens': 27, 'prompt_tokens': 92, 'total_tokens': 119, 'completion_tokens_details': {'accepted_prediction_tokens': 0, 'audio_tokens': 0, 'reasoning_tokens': 0, 'rejected_prediction_tokens': 0}, 'prompt_tokens_details': {'audio_tokens': 0, 'cached_tokens': 0}}, 'model_name': 'gpt-4o-mini-2024-07-18', 'system_fingerprint': 'fp_560af6e559', 'finish_reason': 'tool_calls', 'logprobs': None}, id='run--33e575a3-724c-4509-b6a1-074baf96a66e-0', tool_calls=[{'name': 'tavily_search_results_json', 'args': {'query': '스테이크와 어울리는 와인 추천'}, 'id': 'call_GIRlAm1DQP50RbeCmAPNmRSI', 'type': 'tool_call'}], usage_metadata={'input_tokens': 92, 'output_tokens': 27, 'total_tokens': 119})\n",
      "--------------------------------------------------\n",
      "''\n",
      "--------------------------------------------------\n",
      "[{'args': {'query': '스테이크와 어울리는 와인 추천'},\n",
      "  'id': 'call_GIRlAm1DQP50RbeCmAPNmRSI',\n",
      "  'name': 'tavily_search_results_json',\n",
      "  'type': 'tool_call'}]\n",
      "--------------------------------------------------\n"
     ]
    }
   ],
   "source": [
    "query = \"스테이크와 어울리는 와인을 추천해 주세요.\"\n",
    "\n",
    "ai_msg = llm_with_tools.invoke(query)\n",
    "\n",
    "pprint(ai_msg)\n",
    "print(\"-\"*50)\n",
    "\n",
    "pprint(ai_msg.content) # content' 가 비어있는 것을 확인할 수 있음. 대답이 없음!!\n",
    "# tool 이 사용되었다는 것은 답변이 돌아오지 않음.\n",
    "print(\"-\"*50)\n",
    "\n",
    "pprint(ai_msg.tool_calls) #리스트를 리턴한다.\n",
    "print(\"-\"*50)"
   ]
  },
  {
   "cell_type": "markdown",
   "id": "211d719f",
   "metadata": {},
   "source": [
    "툴이 포함된 LLM은 질문이 왔을 때, 어떤 툴을 사용할지를 판단하고, 결정하는 역할을 한다. 질의에 대한 대답을 들려주지 않는다.\n",
    "\n",
    "툴 사용이 필요하지 않다면, 물론 답변이 돌아온다."
   ]
  },
  {
   "cell_type": "code",
   "execution_count": 8,
   "id": "e8a5f0e6",
   "metadata": {},
   "outputs": [
    {
     "data": {
      "text/plain": [
       "{'name': 'tavily_search_results_json',\n",
       " 'args': {'query': '스테이크와 어울리는 와인 추천'},\n",
       " 'id': 'call_RP6QWyeXa1teZ1WWmkcOtCUX',\n",
       " 'type': 'tool_call'}"
      ]
     },
     "execution_count": 8,
     "metadata": {},
     "output_type": "execute_result"
    }
   ],
   "source": [
    "tool_call = ai_msg.tool_calls[0]\n",
    "tool_call"
   ]
  },
  {
   "cell_type": "code",
   "execution_count": 9,
   "id": "ba6ff64f",
   "metadata": {},
   "outputs": [
    {
     "name": "stdout",
     "output_type": "stream",
     "text": [
      "content='[{\"url\": \"https://mashija.com/%EC%8A%A4%ED%85%8C%EC%9D%B4%ED%81%AC%EC%99%80-%EC%96%B4%EC%9A%B8%EB%A6%AC%EB%8A%94-%EC%B5%9C%EA%B3%A0%EC%9D%98-%EC%99%80%EC%9D%B8-%EB%AC%B4%EC%97%87%EC%9D%84-%EA%B3%A0%EB%A5%BC-%EA%B2%83%EC%9D%B8/\", \"content\": \"# 스테이크와 어울리는 최고의 와인: 무엇을 고를 것인가?\\\\n\\\\n카베르네 소비뇽(Cabernet Sauvignon) 및 말벡(Malbec)과 같은 전형적인 선택부터 더 가벼운 레드 와인, 심지어 화이트 와인과 맛있는 스테이크를 페어링하는 방법까지, 우리의 아카이브에서 가져온 최고의 조언과 최근 디캔터 전문가가 추천한 와인을 소개한다.\\\\n\\\\n<스테이크를 곁들인 레드 와인을 위한 5가지 전형적인 선택>\\\\n\\\\n• 카베르네 소비뇽(Cabernet Sauvignon)  \\\\n• 말벡(Malbec)  \\\\n• 그르나슈/쉬라즈 블렌드(Grenache / Shiraz blends)  \\\\n• 시라/쉬라즈(Syrah / Shiraz)  \\\\n• 산지오베제(Sangiovese)\\\\n\\\\n육즙이 풍부한 스테이크와 맛있는 와인이 있는 저녁 식사는 적어도 고기 애호가들에게 인생의 큰 즐거움일 것이다. [...] 와인과 음식 페어링에서 새로운 시도를 하는 것은 항상 재미있지만, 특별한 스테이크 저녁 식사를 준비할 때 고려해야 할 몇 가지 스타일과 주의사항이 있다.\\\\n\\\\n<스테이크에 곁들이는 레드 와인>\\\\n\\\\n이 포도 품종을 세계 와인 무대에 재등장시키고 고품질 쇠고기에 대한 국가의 명성을 가진 아르헨티나 덕분에, 말벡 레드 와인은 스테이크와 함께 고전적인 매칭이 되었다.\\\\n\\\\n말벡의 풍부한 짙은 과일의 특징과 자연스러운 타닌은 일반적으로 좋은 스테이크와 잘 어울린다고 여겨지지만, 일부 전문가들은 더 신선한 스타일을 찾는 것을 제안한다.\\\\n\\\\n2018년 디캔터 월드 와인 어워드(Decanter World Wine Awards)에서 아르헨티나 지역 의장이었던 남미 와인 전문가이자 저널리스트인 파트리시오 타피아(Patricio Tapia)는 ‘나는 오크가 적고 신선한 과일과 더 좋은 산도를 가진 ‘뉴 웨이브(new wave)’ 말벡을 선택하는 경향이 있다.’라고 말한다. [...] ‘멋지고 생동감 넘치는 카베르네 프랑(Cabernet Franc)은 어떤가? 아니면 카리냥(Carignan), 쌩소(Cinsault) 또는 서늘한 기후에서 생산한 시라(Syrah)는 어떨까? DWWA 칠레 지역 의장이자 Decanter Retailer Awards 회장인 리차즈는 “풀바디하지만 우아한 로제(rosé)도 따뜻한 날에는 잘 어울린다.”라고 말했다.\\\\n\\\\n그는 바디감과 질감이 있지만 스테이크 저녁 식사 중에 미각을 상쾌하게 할 수 있는 레드 와인을 즐긴다고 말하며, ‘스테이크의 리스크은 ‘무거운 육류 맛 = 무거운 와인’이라고 생각하는 것이다.’라고 말했다.\\\\n\\\\n– 피노 누아(Pinot Noir)는 스테이크와 어울리는가? –\\\\n\\\\n대부분의 피노 누아 와인은 스펙트럼의 라이트에서 미디엄 바디에 위치하는 경향이 있으므로, 그 프로필은 종종 더 가벼운 스타일의 육류와 페어링이 주를 이룬다.\"}, {\"url\": \"https://alcohol.hobby-tech.com/entry/%EC%8A%A4%ED%85%8C%EC%9D%B4%ED%81%AC%EC%99%80-%EC%B0%B0%EB%96%A1%EA%B6%81%ED%95%A9-%EC%8A%A4%ED%85%8C%EC%9D%B4%ED%81%AC%EC%97%90-%EC%96%B4%EC%9A%B8%EB%A6%AC%EB%8A%94-%EC%99%80%EC%9D%B8-5%EA%B0%80%EC%A7%80\", \"content\": \"• 4. 메를로 (Merlot) – 부드럽고 균형 잡힌 와인\\\\n\\\\n• 5. 진판델 (Zinfandel) – 달콤한 향과 강한 바디감\\\\n\\\\n• 어떤 와인을 선택해야 할까?\\\\n\\\\n스테이크를 제대로 즐기려면 와인 선택이 중요합니다. 고기의 종류와 조리법에 따라 어울리는 와인이 달라지는데요. 어떤 와인을 선택해야 풍미를 극대화할 수 있을까요? 오늘은 스테이크와 가장 잘 어울리는 와인 5가지를 소개합니다.\\\\n\\\\n  \\\\n\\\\n1. 카베르네 소비뇽 (Cabernet Sauvignon) – 스테이크 와인의 대표주자\\\\n\\\\nImage 3Image 4\\\\n\\\\n추천 이유:\\\\n\\\\n카베르네 소비뇽은 강한 탄닌과 풍부한 바디감이 특징인 레드 와인입니다. 이는 스테이크의 기름진 육즙과 균형을 이루며, 고기의 감칠맛을 더욱 살려줍니다.\\\\n\\\\n어울리는 스테이크:\\\\n\\\\n   리브아이 스테이크\\\\n   뉴욕 스트립\\\\n   티본 스테이크\\\\n\\\\n추천 와인:\\\\n\\\\n   나파 밸리 카베르네 소비뇽\\\\n   샤또 마고 (Château Margaux) [...] 안심 스테이크 (필레 미뇽)\\\\n   티본 스테이크\\\\n\\\\n추천 와인:\\\\n\\\\n   아르헨티나 멘도사 말벡\\\\n   카호르 말벡 (프랑스)\\\\n\\\\n특히 부드러운 안심 스테이크와 함께 즐기면 와인의 깊은 과일향과 육즙이 환상적인 조화를 이룹니다.\\\\n\\\\n  \\\\n\\\\n4. 메를로 (Merlot) – 부드럽고 균형 잡힌 와인\\\\n\\\\nImage 10Image 11Image 12\\\\n\\\\n추천 이유:\\\\n\\\\n메를로는 탄닌이 상대적으로 적고 부드러운 질감을 가지고 있어 고기의 풍미를 자연스럽게 살려주는 와인입니다. 무겁지 않으면서도 적절한 바디감을 가지고 있어 누구나 부담 없이 즐길 수 있습니다.\\\\n\\\\n어울리는 스테이크:\\\\n\\\\n   등심 스테이크\\\\n   미디엄 레어 스테이크\\\\n\\\\n추천 와인:\\\\n\\\\n   보르도 우안 (생테밀리옹, 뽀므롤)\\\\n   캘리포니아 메를로\\\\n\\\\n메를로는 너무 강한 탄닌을 부담스러워하는 사람들에게 적합하며, 담백한 스타일의 스테이크와 잘 어울립니다.\\\\n\\\\n  \\\\n\\\\n5. 진판델 (Zinfandel) – 달콤한 향과 강한 바디감 [...] 카베르네 소비뇽은 특히 마블링이 많은 소고기 스테이크와 환상적인 조화를 이룹니다.\\\\n\\\\n  \\\\n\\\\n2. 시라/쉬라즈 (Syrah/Shiraz) – 스파이시한 풍미가 매력적인 와인\\\\n\\\\nImage 5Image 6\\\\n\\\\n추천 이유:\\\\n\\\\n시라는 과일향이 강하면서도 스파이시한 풍미가 있어, 풍부한 육즙을 가진 스테이크와 잘 어울립니다. 특히 숯불에 구운 스테이크와 궁합이 좋습니다.\\\\n\\\\n어울리는 스테이크:\\\\n\\\\n   바비큐 스테이크\\\\n   페퍼크러스트 스테이크\\\\n\\\\n추천 와인:\\\\n\\\\n   프랑스 론 밸리 시라\\\\n   호주 쉬라즈 (펜폴즈 그랜지)\\\\n\\\\n시라는 그릴 자국이 남은 스모키한 스테이크와 환상적인 페어링을 보여줍니다.\\\\n\\\\n  \\\\n\\\\n3. 말벡 (Malbec) – 풍부한 과일 향과 부드러운 탄닌\\\\n\\\\nImage 7Image 8Image 9\\\\n\\\\n추천 이유:\\\\n\\\\n말벡은 블랙베리와 자두 같은 과일향이 강하면서도 탄닌이 부드러운 레드 와인입니다. 고기와 함께 마시면 풍미가 더욱 살아나면서 균형 잡힌 조화를 이룹니다.\\\\n\\\\n어울리는 스테이크:\"}]' name='tavily_search_results_json' tool_call_id='call_RP6QWyeXa1teZ1WWmkcOtCUX' artifact={'query': '스테이크와 어울리는 와인 추천', 'follow_up_questions': None, 'answer': None, 'images': [], 'results': [{'url': 'https://mashija.com/%EC%8A%A4%ED%85%8C%EC%9D%B4%ED%81%AC%EC%99%80-%EC%96%B4%EC%9A%B8%EB%A6%AC%EB%8A%94-%EC%B5%9C%EA%B3%A0%EC%9D%98-%EC%99%80%EC%9D%B8-%EB%AC%B4%EC%97%87%EC%9D%84-%EA%B3%A0%EB%A5%BC-%EA%B2%83%EC%9D%B8/', 'title': '스테이크와 어울리는 최고의 와인: 무엇을 고를 것인가?', 'content': '# 스테이크와 어울리는 최고의 와인: 무엇을 고를 것인가?\\n\\n카베르네 소비뇽(Cabernet Sauvignon) 및 말벡(Malbec)과 같은 전형적인 선택부터 더 가벼운 레드 와인, 심지어 화이트 와인과 맛있는 스테이크를 페어링하는 방법까지, 우리의 아카이브에서 가져온 최고의 조언과 최근 디캔터 전문가가 추천한 와인을 소개한다.\\n\\n<스테이크를 곁들인 레드 와인을 위한 5가지 전형적인 선택>\\n\\n• 카베르네 소비뇽(Cabernet Sauvignon)  \\n• 말벡(Malbec)  \\n• 그르나슈/쉬라즈 블렌드(Grenache / Shiraz blends)  \\n• 시라/쉬라즈(Syrah / Shiraz)  \\n• 산지오베제(Sangiovese)\\n\\n육즙이 풍부한 스테이크와 맛있는 와인이 있는 저녁 식사는 적어도 고기 애호가들에게 인생의 큰 즐거움일 것이다. [...] 와인과 음식 페어링에서 새로운 시도를 하는 것은 항상 재미있지만, 특별한 스테이크 저녁 식사를 준비할 때 고려해야 할 몇 가지 스타일과 주의사항이 있다.\\n\\n<스테이크에 곁들이는 레드 와인>\\n\\n이 포도 품종을 세계 와인 무대에 재등장시키고 고품질 쇠고기에 대한 국가의 명성을 가진 아르헨티나 덕분에, 말벡 레드 와인은 스테이크와 함께 고전적인 매칭이 되었다.\\n\\n말벡의 풍부한 짙은 과일의 특징과 자연스러운 타닌은 일반적으로 좋은 스테이크와 잘 어울린다고 여겨지지만, 일부 전문가들은 더 신선한 스타일을 찾는 것을 제안한다.\\n\\n2018년 디캔터 월드 와인 어워드(Decanter World Wine Awards)에서 아르헨티나 지역 의장이었던 남미 와인 전문가이자 저널리스트인 파트리시오 타피아(Patricio Tapia)는 ‘나는 오크가 적고 신선한 과일과 더 좋은 산도를 가진 ‘뉴 웨이브(new wave)’ 말벡을 선택하는 경향이 있다.’라고 말한다. [...] ‘멋지고 생동감 넘치는 카베르네 프랑(Cabernet Franc)은 어떤가? 아니면 카리냥(Carignan), 쌩소(Cinsault) 또는 서늘한 기후에서 생산한 시라(Syrah)는 어떨까? DWWA 칠레 지역 의장이자 Decanter Retailer Awards 회장인 리차즈는 “풀바디하지만 우아한 로제(rosé)도 따뜻한 날에는 잘 어울린다.”라고 말했다.\\n\\n그는 바디감과 질감이 있지만 스테이크 저녁 식사 중에 미각을 상쾌하게 할 수 있는 레드 와인을 즐긴다고 말하며, ‘스테이크의 리스크은 ‘무거운 육류 맛 = 무거운 와인’이라고 생각하는 것이다.’라고 말했다.\\n\\n– 피노 누아(Pinot Noir)는 스테이크와 어울리는가? –\\n\\n대부분의 피노 누아 와인은 스펙트럼의 라이트에서 미디엄 바디에 위치하는 경향이 있으므로, 그 프로필은 종종 더 가벼운 스타일의 육류와 페어링이 주를 이룬다.', 'score': 0.9412289, 'raw_content': None}, {'url': 'https://alcohol.hobby-tech.com/entry/%EC%8A%A4%ED%85%8C%EC%9D%B4%ED%81%AC%EC%99%80-%EC%B0%B0%EB%96%A1%EA%B6%81%ED%95%A9-%EC%8A%A4%ED%85%8C%EC%9D%B4%ED%81%AC%EC%97%90-%EC%96%B4%EC%9A%B8%EB%A6%AC%EB%8A%94-%EC%99%80%EC%9D%B8-5%EA%B0%80%EC%A7%80', 'title': '스테이크와 찰떡궁합! 스테이크에 어울리는 와인 5가지 - 술의 모든 것', 'content': '• 4. 메를로 (Merlot) – 부드럽고 균형 잡힌 와인\\n\\n• 5. 진판델 (Zinfandel) – 달콤한 향과 강한 바디감\\n\\n• 어떤 와인을 선택해야 할까?\\n\\n스테이크를 제대로 즐기려면 와인 선택이 중요합니다. 고기의 종류와 조리법에 따라 어울리는 와인이 달라지는데요. 어떤 와인을 선택해야 풍미를 극대화할 수 있을까요? 오늘은 스테이크와 가장 잘 어울리는 와인 5가지를 소개합니다.\\n\\n  \\n\\n1. 카베르네 소비뇽 (Cabernet Sauvignon) – 스테이크 와인의 대표주자\\n\\nImage 3Image 4\\n\\n추천 이유:\\n\\n카베르네 소비뇽은 강한 탄닌과 풍부한 바디감이 특징인 레드 와인입니다. 이는 스테이크의 기름진 육즙과 균형을 이루며, 고기의 감칠맛을 더욱 살려줍니다.\\n\\n어울리는 스테이크:\\n\\n   리브아이 스테이크\\n   뉴욕 스트립\\n   티본 스테이크\\n\\n추천 와인:\\n\\n   나파 밸리 카베르네 소비뇽\\n   샤또 마고 (Château Margaux) [...] 안심 스테이크 (필레 미뇽)\\n   티본 스테이크\\n\\n추천 와인:\\n\\n   아르헨티나 멘도사 말벡\\n   카호르 말벡 (프랑스)\\n\\n특히 부드러운 안심 스테이크와 함께 즐기면 와인의 깊은 과일향과 육즙이 환상적인 조화를 이룹니다.\\n\\n  \\n\\n4. 메를로 (Merlot) – 부드럽고 균형 잡힌 와인\\n\\nImage 10Image 11Image 12\\n\\n추천 이유:\\n\\n메를로는 탄닌이 상대적으로 적고 부드러운 질감을 가지고 있어 고기의 풍미를 자연스럽게 살려주는 와인입니다. 무겁지 않으면서도 적절한 바디감을 가지고 있어 누구나 부담 없이 즐길 수 있습니다.\\n\\n어울리는 스테이크:\\n\\n   등심 스테이크\\n   미디엄 레어 스테이크\\n\\n추천 와인:\\n\\n   보르도 우안 (생테밀리옹, 뽀므롤)\\n   캘리포니아 메를로\\n\\n메를로는 너무 강한 탄닌을 부담스러워하는 사람들에게 적합하며, 담백한 스타일의 스테이크와 잘 어울립니다.\\n\\n  \\n\\n5. 진판델 (Zinfandel) – 달콤한 향과 강한 바디감 [...] 카베르네 소비뇽은 특히 마블링이 많은 소고기 스테이크와 환상적인 조화를 이룹니다.\\n\\n  \\n\\n2. 시라/쉬라즈 (Syrah/Shiraz) – 스파이시한 풍미가 매력적인 와인\\n\\nImage 5Image 6\\n\\n추천 이유:\\n\\n시라는 과일향이 강하면서도 스파이시한 풍미가 있어, 풍부한 육즙을 가진 스테이크와 잘 어울립니다. 특히 숯불에 구운 스테이크와 궁합이 좋습니다.\\n\\n어울리는 스테이크:\\n\\n   바비큐 스테이크\\n   페퍼크러스트 스테이크\\n\\n추천 와인:\\n\\n   프랑스 론 밸리 시라\\n   호주 쉬라즈 (펜폴즈 그랜지)\\n\\n시라는 그릴 자국이 남은 스모키한 스테이크와 환상적인 페어링을 보여줍니다.\\n\\n  \\n\\n3. 말벡 (Malbec) – 풍부한 과일 향과 부드러운 탄닌\\n\\nImage 7Image 8Image 9\\n\\n추천 이유:\\n\\n말벡은 블랙베리와 자두 같은 과일향이 강하면서도 탄닌이 부드러운 레드 와인입니다. 고기와 함께 마시면 풍미가 더욱 살아나면서 균형 잡힌 조화를 이룹니다.\\n\\n어울리는 스테이크:', 'score': 0.9392538, 'raw_content': None}], 'response_time': 1.67, 'request_id': '0293b1df-0f97-4d58-95bb-60886a8435c4'}\n"
     ]
    }
   ],
   "source": [
    "tool_message = web_search.invoke(tool_call)\n",
    "\n",
    "print(tool_message)"
   ]
  },
  {
   "cell_type": "code",
   "execution_count": 10,
   "id": "ae65d87c",
   "metadata": {},
   "outputs": [
    {
     "name": "stdout",
     "output_type": "stream",
     "text": [
      "('[{\"url\": '\n",
      " '\"https://mashija.com/%EC%8A%A4%ED%85%8C%EC%9D%B4%ED%81%AC%EC%99%80-%EC%96%B4%EC%9A%B8%EB%A6%AC%EB%8A%94-%EC%B5%9C%EA%B3%A0%EC%9D%98-%EC%99%80%EC%9D%B8-%EB%AC%B4%EC%97%87%EC%9D%84-%EA%B3%A0%EB%A5%BC-%EA%B2%83%EC%9D%B8/\", '\n",
      " '\"content\": \"# 스테이크와 어울리는 최고의 와인: 무엇을 고를 것인가?\\\\n\\\\n카베르네 소비뇽(Cabernet '\n",
      " 'Sauvignon) 및 말벡(Malbec)과 같은 전형적인 선택부터 더 가벼운 레드 와인, 심지어 화이트 와인과 맛있는 스테이크를 '\n",
      " '페어링하는 방법까지, 우리의 아카이브에서 가져온 최고의 조언과 최근 디캔터 전문가가 추천한 와인을 소개한다.\\\\n\\\\n<스테이크를 곁들인 '\n",
      " '레드 와인을 위한 5가지 전형적인 선택>\\\\n\\\\n• 카베르네 소비뇽(Cabernet Sauvignon)  \\\\n• 말벡(Malbec)  '\n",
      " '\\\\n• 그르나슈/쉬라즈 블렌드(Grenache / Shiraz blends)  \\\\n• 시라/쉬라즈(Syrah / Shiraz)  '\n",
      " '\\\\n• 산지오베제(Sangiovese)\\\\n\\\\n육즙이 풍부한 스테이크와 맛있는 와인이 있는 저녁 식사는 적어도 고기 애호가들에게 '\n",
      " '인생의 큰 즐거움일 것이다. [...] 와인과 음식 페어링에서 새로운 시도를 하는 것은 항상 재미있지만, 특별한 스테이크 저녁 식사를 '\n",
      " '준비할 때 고려해야 할 몇 가지 스타일과 주의사항이 있다.\\\\n\\\\n<스테이크에 곁들이는 레드 와인>\\\\n\\\\n이 포도 품종을 세계 와인 '\n",
      " '무대에 재등장시키고 고품질 쇠고기에 대한 국가의 명성을 가진 아르헨티나 덕분에, 말벡 레드 와인은 스테이크와 함께 고전적인 매칭이 '\n",
      " '되었다.\\\\n\\\\n말벡의 풍부한 짙은 과일의 특징과 자연스러운 타닌은 일반적으로 좋은 스테이크와 잘 어울린다고 여겨지지만, 일부 '\n",
      " '전문가들은 더 신선한 스타일을 찾는 것을 제안한다.\\\\n\\\\n2018년 디캔터 월드 와인 어워드(Decanter World Wine '\n",
      " 'Awards)에서 아르헨티나 지역 의장이었던 남미 와인 전문가이자 저널리스트인 파트리시오 타피아(Patricio Tapia)는 ‘나는 '\n",
      " '오크가 적고 신선한 과일과 더 좋은 산도를 가진 ‘뉴 웨이브(new wave)’ 말벡을 선택하는 경향이 있다.’라고 말한다. [...] '\n",
      " '‘멋지고 생동감 넘치는 카베르네 프랑(Cabernet Franc)은 어떤가? 아니면 카리냥(Carignan), 쌩소(Cinsault) '\n",
      " '또는 서늘한 기후에서 생산한 시라(Syrah)는 어떨까? DWWA 칠레 지역 의장이자 Decanter Retailer Awards 회장인 '\n",
      " '리차즈는 “풀바디하지만 우아한 로제(rosé)도 따뜻한 날에는 잘 어울린다.”라고 말했다.\\\\n\\\\n그는 바디감과 질감이 있지만 스테이크 '\n",
      " '저녁 식사 중에 미각을 상쾌하게 할 수 있는 레드 와인을 즐긴다고 말하며, ‘스테이크의 리스크은 ‘무거운 육류 맛 = 무거운 와인’이라고 '\n",
      " '생각하는 것이다.’라고 말했다.\\\\n\\\\n– 피노 누아(Pinot Noir)는 스테이크와 어울리는가? –\\\\n\\\\n대부분의 피노 누아 '\n",
      " '와인은 스펙트럼의 라이트에서 미디엄 바디에 위치하는 경향이 있으므로, 그 프로필은 종종 더 가벼운 스타일의 육류와 페어링이 주를 '\n",
      " '이룬다.\"}, {\"url\": '\n",
      " '\"https://alcohol.hobby-tech.com/entry/%EC%8A%A4%ED%85%8C%EC%9D%B4%ED%81%AC%EC%99%80-%EC%B0%B0%EB%96%A1%EA%B6%81%ED%95%A9-%EC%8A%A4%ED%85%8C%EC%9D%B4%ED%81%AC%EC%97%90-%EC%96%B4%EC%9A%B8%EB%A6%AC%EB%8A%94-%EC%99%80%EC%9D%B8-5%EA%B0%80%EC%A7%80\", '\n",
      " '\"content\": \"• 4. 메를로 (Merlot) – 부드럽고 균형 잡힌 와인\\\\n\\\\n• 5. 진판델 (Zinfandel) – '\n",
      " '달콤한 향과 강한 바디감\\\\n\\\\n• 어떤 와인을 선택해야 할까?\\\\n\\\\n스테이크를 제대로 즐기려면 와인 선택이 중요합니다. 고기의 '\n",
      " '종류와 조리법에 따라 어울리는 와인이 달라지는데요. 어떤 와인을 선택해야 풍미를 극대화할 수 있을까요? 오늘은 스테이크와 가장 잘 '\n",
      " '어울리는 와인 5가지를 소개합니다.\\\\n\\\\n  \\\\n\\\\n1. 카베르네 소비뇽 (Cabernet Sauvignon) – 스테이크 와인의 '\n",
      " '대표주자\\\\n\\\\nImage 3Image 4\\\\n\\\\n추천 이유:\\\\n\\\\n카베르네 소비뇽은 강한 탄닌과 풍부한 바디감이 특징인 레드 '\n",
      " '와인입니다. 이는 스테이크의 기름진 육즙과 균형을 이루며, 고기의 감칠맛을 더욱 살려줍니다.\\\\n\\\\n어울리는 스테이크:\\\\n\\\\n   '\n",
      " '리브아이 스테이크\\\\n   뉴욕 스트립\\\\n   티본 스테이크\\\\n\\\\n추천 와인:\\\\n\\\\n   나파 밸리 카베르네 소비뇽\\\\n   '\n",
      " '샤또 마고 (Château Margaux) [...] 안심 스테이크 (필레 미뇽)\\\\n   티본 스테이크\\\\n\\\\n추천 '\n",
      " '와인:\\\\n\\\\n   아르헨티나 멘도사 말벡\\\\n   카호르 말벡 (프랑스)\\\\n\\\\n특히 부드러운 안심 스테이크와 함께 즐기면 와인의 '\n",
      " '깊은 과일향과 육즙이 환상적인 조화를 이룹니다.\\\\n\\\\n  \\\\n\\\\n4. 메를로 (Merlot) – 부드럽고 균형 잡힌 '\n",
      " '와인\\\\n\\\\nImage 10Image 11Image 12\\\\n\\\\n추천 이유:\\\\n\\\\n메를로는 탄닌이 상대적으로 적고 부드러운 질감을 '\n",
      " '가지고 있어 고기의 풍미를 자연스럽게 살려주는 와인입니다. 무겁지 않으면서도 적절한 바디감을 가지고 있어 누구나 부담 없이 즐길 수 '\n",
      " '있습니다.\\\\n\\\\n어울리는 스테이크:\\\\n\\\\n   등심 스테이크\\\\n   미디엄 레어 스테이크\\\\n\\\\n추천 와인:\\\\n\\\\n   '\n",
      " '보르도 우안 (생테밀리옹, 뽀므롤)\\\\n   캘리포니아 메를로\\\\n\\\\n메를로는 너무 강한 탄닌을 부담스러워하는 사람들에게 적합하며, '\n",
      " '담백한 스타일의 스테이크와 잘 어울립니다.\\\\n\\\\n  \\\\n\\\\n5. 진판델 (Zinfandel) – 달콤한 향과 강한 바디감 '\n",
      " '[...] 카베르네 소비뇽은 특히 마블링이 많은 소고기 스테이크와 환상적인 조화를 이룹니다.\\\\n\\\\n  \\\\n\\\\n2. 시라/쉬라즈 '\n",
      " '(Syrah/Shiraz) – 스파이시한 풍미가 매력적인 와인\\\\n\\\\nImage 5Image 6\\\\n\\\\n추천 이유:\\\\n\\\\n시라는 '\n",
      " '과일향이 강하면서도 스파이시한 풍미가 있어, 풍부한 육즙을 가진 스테이크와 잘 어울립니다. 특히 숯불에 구운 스테이크와 궁합이 '\n",
      " '좋습니다.\\\\n\\\\n어울리는 스테이크:\\\\n\\\\n   바비큐 스테이크\\\\n   페퍼크러스트 스테이크\\\\n\\\\n추천 와인:\\\\n\\\\n   '\n",
      " '프랑스 론 밸리 시라\\\\n   호주 쉬라즈 (펜폴즈 그랜지)\\\\n\\\\n시라는 그릴 자국이 남은 스모키한 스테이크와 환상적인 페어링을 '\n",
      " '보여줍니다.\\\\n\\\\n  \\\\n\\\\n3. 말벡 (Malbec) – 풍부한 과일 향과 부드러운 탄닌\\\\n\\\\nImage 7Image '\n",
      " '8Image 9\\\\n\\\\n추천 이유:\\\\n\\\\n말벡은 블랙베리와 자두 같은 과일향이 강하면서도 탄닌이 부드러운 레드 와인입니다. 고기와 '\n",
      " '함께 마시면 풍미가 더욱 살아나면서 균형 잡힌 조화를 이룹니다.\\\\n\\\\n어울리는 스테이크:\"}]')\n"
     ]
    }
   ],
   "source": [
    "pprint(tool_message.content)"
   ]
  },
  {
   "cell_type": "code",
   "execution_count": 34,
   "id": "43e0717f",
   "metadata": {},
   "outputs": [
    {
     "name": "stdout",
     "output_type": "stream",
     "text": [
      "tool_msgs : \n",
      " [ToolMessage(content=\"HTTPError('429 Client Error: Too Many Requests for url: https://api.tavily.com/search')\", name='tavily_search_results_json', tool_call_id='call_zicLB7rCTiTd8Yz8Qcog6gSu', artifact={})]\n",
      "------------------------------\n",
      "AIMessage(content='', additional_kwargs={'tool_calls': [{'id': 'call_C3EVE6y3hRKZiTk1rPM6Oltp', 'function': {'arguments': '{\"query\":\"모엣샹동 샴페인 가격 원화 2025-08-29\"}', 'name': 'tavily_search_results_json'}, 'type': 'function'}], 'refusal': None}, response_metadata={'token_usage': {'completion_tokens': 37, 'prompt_tokens': 185, 'total_tokens': 222, 'completion_tokens_details': {'accepted_prediction_tokens': 0, 'audio_tokens': 0, 'reasoning_tokens': 0, 'rejected_prediction_tokens': 0}, 'prompt_tokens_details': {'audio_tokens': 0, 'cached_tokens': 0}}, 'model_name': 'gpt-4o-mini-2024-07-18', 'system_fingerprint': 'fp_560af6e559', 'finish_reason': 'tool_calls', 'logprobs': None}, id='run--f7cdd0c3-39df-43ba-8c04-3296a7b122e4-0', tool_calls=[{'name': 'tavily_search_results_json', 'args': {'query': '모엣샹동 샴페인 가격 원화 2025-08-29'}, 'id': 'call_C3EVE6y3hRKZiTk1rPM6Oltp', 'type': 'tool_call'}], usage_metadata={'input_tokens': 185, 'output_tokens': 37, 'total_tokens': 222})\n"
     ]
    }
   ],
   "source": [
    "from datetime import datetime\n",
    "from langchain_core.prompts import ChatPromptTemplate\n",
    "from langchain_core.runnables import chain\n",
    "\n",
    "today = datetime.today().strftime(\"%Y-%m-%d\")\n",
    "\n",
    "prompt = ChatPromptTemplate([\n",
    "    (\"system\", f\"You are helpful AI assistant. Today is {today}.\"),\n",
    "    (\"human\", \"{user_input}\"),\n",
    "    (\"placeholder\", \"{message}\"), #tool에 대한 정보를 넣음. + tool이 리턴한 결과\n",
    "])\n",
    "\n",
    "llm = ChatOpenAI(model='gpt-4o-mini')\n",
    "\n",
    "llm_with_tools = llm.bind_tools(tools=[web_search])\n",
    "\n",
    "llm_chain = prompt | llm_with_tools\n",
    "\n",
    "@chain\n",
    "def web_search_chain(user_input: str):\n",
    "    input_ = {\"user_input\" : user_input}\n",
    "    ai_msg = llm_chain.invoke(input_)  #어떤 툴이 필요한지에 대한 결과 + 쿼리를 리턴\n",
    "\n",
    "    tool_msgs = web_search.batch(ai_msg.tool_calls)\n",
    "    print(\"tool_msgs : \\n\", tool_msgs)\n",
    "    print(\"-\"*30)\n",
    "    #여기서 message라고 하는건 tool이 가져온 정보를 placeholder에 있음 \n",
    "    # ** 이거는 python문법인데 dictinary문법을 unpack해서 넣기 위해서  현재 input이 input_ = {\"user_input\": user_input}\n",
    "    return llm_chain.invoke({**input_, \"message\": [ai_msg, *tool_msgs]}) # **input_ 딕셔너리 형태로 풀어서 하기 위해서? *, 이나 ** 이게 뭔지?\n",
    "\n",
    "response = web_search_chain.invoke(\"오늘 모엣샹동 샴페인의 원화 가격은 얼마인가요?\")\n",
    "\n",
    "pprint(response)"
   ]
  },
  {
   "cell_type": "code",
   "execution_count": 31,
   "id": "97f8f62b",
   "metadata": {},
   "outputs": [],
   "source": [
    "# 도구 정의하기\n",
    "from langchain_community.tools import TavilySearchResults\n",
    "from langchain_core.tools import tool\n",
    "from typing import List\n",
    "\n",
    "@tool\n",
    "def search_web(query : str) -> str:\n",
    "    \"\"\"Searches the internet for information that does not exist in the database or \n",
    "    for the latest information.\"\"\"\n",
    "\n",
    "    tavily_search = TavilySearchResults(max_results=2)\n",
    "    docs = tavily_search.invoke(query)\n",
    "\n",
    "    formatted_docs = \"\\n---\\n\".join([\n",
    "        f'<Document href=\"{doc[\"url\"]}\"/>\\n{doc[\"content\"]}\\n</Document>'\n",
    "        for doc in docs\n",
    "        ])\n",
    "\n",
    "    if len(formatted_docs) > 0:\n",
    "        return formatted_docs\n",
    "\n",
    "    return \"관련 정보를 찾을 수 없습니다.\""
   ]
  },
  {
   "cell_type": "code",
   "execution_count": 33,
   "id": "248b65f6",
   "metadata": {},
   "outputs": [
    {
     "ename": "TypeError",
     "evalue": "string indices must be integers, not 'str'",
     "output_type": "error",
     "traceback": [
      "\u001b[31m---------------------------------------------------------------------------\u001b[39m",
      "\u001b[31mTypeError\u001b[39m                                 Traceback (most recent call last)",
      "\u001b[36mCell\u001b[39m\u001b[36m \u001b[39m\u001b[32mIn[33]\u001b[39m\u001b[32m, line 2\u001b[39m\n\u001b[32m      1\u001b[39m query = \u001b[33m\"\u001b[39m\u001b[33m스테이크와 어울리는 와인을 추천해 주세요.\u001b[39m\u001b[33m\"\u001b[39m\n\u001b[32m----> \u001b[39m\u001b[32m2\u001b[39m search_results = \u001b[43msearch_web\u001b[49m\u001b[43m.\u001b[49m\u001b[43minvoke\u001b[49m\u001b[43m(\u001b[49m\u001b[43mquery\u001b[49m\u001b[43m)\u001b[49m\n\u001b[32m      4\u001b[39m \u001b[38;5;28mprint\u001b[39m(search_results)\n",
      "\u001b[36mFile \u001b[39m\u001b[32mc:\\Users\\USER\\AppData\\Local\\pypoetry\\Cache\\virtualenvs\\langgraph-work-GT3FxxES-py3.11\\Lib\\site-packages\\langchain_core\\tools\\base.py:513\u001b[39m, in \u001b[36mBaseTool.invoke\u001b[39m\u001b[34m(self, input, config, **kwargs)\u001b[39m\n\u001b[32m    505\u001b[39m \u001b[38;5;129m@override\u001b[39m\n\u001b[32m    506\u001b[39m \u001b[38;5;28;01mdef\u001b[39;00m\u001b[38;5;250m \u001b[39m\u001b[34minvoke\u001b[39m(\n\u001b[32m    507\u001b[39m     \u001b[38;5;28mself\u001b[39m,\n\u001b[32m   (...)\u001b[39m\u001b[32m    510\u001b[39m     **kwargs: Any,\n\u001b[32m    511\u001b[39m ) -> Any:\n\u001b[32m    512\u001b[39m     tool_input, kwargs = _prep_run_args(\u001b[38;5;28minput\u001b[39m, config, **kwargs)\n\u001b[32m--> \u001b[39m\u001b[32m513\u001b[39m     \u001b[38;5;28;01mreturn\u001b[39;00m \u001b[38;5;28;43mself\u001b[39;49m\u001b[43m.\u001b[49m\u001b[43mrun\u001b[49m\u001b[43m(\u001b[49m\u001b[43mtool_input\u001b[49m\u001b[43m,\u001b[49m\u001b[43m \u001b[49m\u001b[43m*\u001b[49m\u001b[43m*\u001b[49m\u001b[43mkwargs\u001b[49m\u001b[43m)\u001b[49m\n",
      "\u001b[36mFile \u001b[39m\u001b[32mc:\\Users\\USER\\AppData\\Local\\pypoetry\\Cache\\virtualenvs\\langgraph-work-GT3FxxES-py3.11\\Lib\\site-packages\\langchain_core\\tools\\base.py:774\u001b[39m, in \u001b[36mBaseTool.run\u001b[39m\u001b[34m(self, tool_input, verbose, start_color, color, callbacks, tags, metadata, run_name, run_id, config, tool_call_id, **kwargs)\u001b[39m\n\u001b[32m    772\u001b[39m \u001b[38;5;28;01mif\u001b[39;00m error_to_raise:\n\u001b[32m    773\u001b[39m     run_manager.on_tool_error(error_to_raise)\n\u001b[32m--> \u001b[39m\u001b[32m774\u001b[39m     \u001b[38;5;28;01mraise\u001b[39;00m error_to_raise\n\u001b[32m    775\u001b[39m output = _format_output(content, artifact, tool_call_id, \u001b[38;5;28mself\u001b[39m.name, status)\n\u001b[32m    776\u001b[39m run_manager.on_tool_end(output, color=color, name=\u001b[38;5;28mself\u001b[39m.name, **kwargs)\n",
      "\u001b[36mFile \u001b[39m\u001b[32mc:\\Users\\USER\\AppData\\Local\\pypoetry\\Cache\\virtualenvs\\langgraph-work-GT3FxxES-py3.11\\Lib\\site-packages\\langchain_core\\tools\\base.py:743\u001b[39m, in \u001b[36mBaseTool.run\u001b[39m\u001b[34m(self, tool_input, verbose, start_color, color, callbacks, tags, metadata, run_name, run_id, config, tool_call_id, **kwargs)\u001b[39m\n\u001b[32m    741\u001b[39m     \u001b[38;5;28;01mif\u001b[39;00m config_param := _get_runnable_config_param(\u001b[38;5;28mself\u001b[39m._run):\n\u001b[32m    742\u001b[39m         tool_kwargs = tool_kwargs | {config_param: config}\n\u001b[32m--> \u001b[39m\u001b[32m743\u001b[39m     response = \u001b[43mcontext\u001b[49m\u001b[43m.\u001b[49m\u001b[43mrun\u001b[49m\u001b[43m(\u001b[49m\u001b[38;5;28;43mself\u001b[39;49m\u001b[43m.\u001b[49m\u001b[43m_run\u001b[49m\u001b[43m,\u001b[49m\u001b[43m \u001b[49m\u001b[43m*\u001b[49m\u001b[43mtool_args\u001b[49m\u001b[43m,\u001b[49m\u001b[43m \u001b[49m\u001b[43m*\u001b[49m\u001b[43m*\u001b[49m\u001b[43mtool_kwargs\u001b[49m\u001b[43m)\u001b[49m\n\u001b[32m    744\u001b[39m \u001b[38;5;28;01mif\u001b[39;00m \u001b[38;5;28mself\u001b[39m.response_format == \u001b[33m\"\u001b[39m\u001b[33mcontent_and_artifact\u001b[39m\u001b[33m\"\u001b[39m:\n\u001b[32m    745\u001b[39m     \u001b[38;5;28;01mif\u001b[39;00m \u001b[38;5;129;01mnot\u001b[39;00m \u001b[38;5;28misinstance\u001b[39m(response, \u001b[38;5;28mtuple\u001b[39m) \u001b[38;5;129;01mor\u001b[39;00m \u001b[38;5;28mlen\u001b[39m(response) != \u001b[32m2\u001b[39m:\n",
      "\u001b[36mFile \u001b[39m\u001b[32mc:\\Users\\USER\\AppData\\Local\\pypoetry\\Cache\\virtualenvs\\langgraph-work-GT3FxxES-py3.11\\Lib\\site-packages\\langchain_core\\tools\\structured.py:93\u001b[39m, in \u001b[36mStructuredTool._run\u001b[39m\u001b[34m(self, config, run_manager, *args, **kwargs)\u001b[39m\n\u001b[32m     91\u001b[39m     \u001b[38;5;28;01mif\u001b[39;00m config_param := _get_runnable_config_param(\u001b[38;5;28mself\u001b[39m.func):\n\u001b[32m     92\u001b[39m         kwargs[config_param] = config\n\u001b[32m---> \u001b[39m\u001b[32m93\u001b[39m     \u001b[38;5;28;01mreturn\u001b[39;00m \u001b[38;5;28;43mself\u001b[39;49m\u001b[43m.\u001b[49m\u001b[43mfunc\u001b[49m\u001b[43m(\u001b[49m\u001b[43m*\u001b[49m\u001b[43margs\u001b[49m\u001b[43m,\u001b[49m\u001b[43m \u001b[49m\u001b[43m*\u001b[49m\u001b[43m*\u001b[49m\u001b[43mkwargs\u001b[49m\u001b[43m)\u001b[49m\n\u001b[32m     94\u001b[39m msg = \u001b[33m\"\u001b[39m\u001b[33mStructuredTool does not support sync invocation.\u001b[39m\u001b[33m\"\u001b[39m\n\u001b[32m     95\u001b[39m \u001b[38;5;28;01mraise\u001b[39;00m \u001b[38;5;167;01mNotImplementedError\u001b[39;00m(msg)\n",
      "\u001b[36mCell\u001b[39m\u001b[36m \u001b[39m\u001b[32mIn[31]\u001b[39m\u001b[32m, line 14\u001b[39m, in \u001b[36msearch_web\u001b[39m\u001b[34m(query)\u001b[39m\n\u001b[32m     11\u001b[39m tavily_search = TavilySearchResults(max_results=\u001b[32m2\u001b[39m)\n\u001b[32m     12\u001b[39m docs = tavily_search.invoke(query)\n\u001b[32m---> \u001b[39m\u001b[32m14\u001b[39m formatted_docs = \u001b[33m\"\u001b[39m\u001b[38;5;130;01m\\n\u001b[39;00m\u001b[33m---\u001b[39m\u001b[38;5;130;01m\\n\u001b[39;00m\u001b[33m\"\u001b[39m.join(\u001b[43m[\u001b[49m\n\u001b[32m     15\u001b[39m \u001b[43m    \u001b[49m\u001b[33;43mf\u001b[39;49m\u001b[33;43m'\u001b[39;49m\u001b[33;43m<Document href=\u001b[39;49m\u001b[33;43m\"\u001b[39;49m\u001b[38;5;132;43;01m{\u001b[39;49;00m\u001b[43mdoc\u001b[49m\u001b[43m[\u001b[49m\u001b[33;43m\"\u001b[39;49m\u001b[33;43murl\u001b[39;49m\u001b[33;43m\"\u001b[39;49m\u001b[43m]\u001b[49m\u001b[38;5;132;43;01m}\u001b[39;49;00m\u001b[33;43m\"\u001b[39;49m\u001b[33;43m/>\u001b[39;49m\u001b[38;5;130;43;01m\\n\u001b[39;49;00m\u001b[38;5;132;43;01m{\u001b[39;49;00m\u001b[43mdoc\u001b[49m\u001b[43m[\u001b[49m\u001b[33;43m\"\u001b[39;49m\u001b[33;43mcontent\u001b[39;49m\u001b[33;43m\"\u001b[39;49m\u001b[43m]\u001b[49m\u001b[38;5;132;43;01m}\u001b[39;49;00m\u001b[38;5;130;43;01m\\n\u001b[39;49;00m\u001b[33;43m</Document>\u001b[39;49m\u001b[33;43m'\u001b[39;49m\n\u001b[32m     16\u001b[39m \u001b[43m    \u001b[49m\u001b[38;5;28;43;01mfor\u001b[39;49;00m\u001b[43m \u001b[49m\u001b[43mdoc\u001b[49m\u001b[43m \u001b[49m\u001b[38;5;129;43;01min\u001b[39;49;00m\u001b[43m \u001b[49m\u001b[43mdocs\u001b[49m\n\u001b[32m     17\u001b[39m \u001b[43m    \u001b[49m\u001b[43m]\u001b[49m)\n\u001b[32m     19\u001b[39m \u001b[38;5;28;01mif\u001b[39;00m \u001b[38;5;28mlen\u001b[39m(formatted_docs) > \u001b[32m0\u001b[39m:\n\u001b[32m     20\u001b[39m     \u001b[38;5;28;01mreturn\u001b[39;00m formatted_docs\n",
      "\u001b[36mCell\u001b[39m\u001b[36m \u001b[39m\u001b[32mIn[31]\u001b[39m\u001b[32m, line 15\u001b[39m, in \u001b[36m<listcomp>\u001b[39m\u001b[34m(.0)\u001b[39m\n\u001b[32m     11\u001b[39m tavily_search = TavilySearchResults(max_results=\u001b[32m2\u001b[39m)\n\u001b[32m     12\u001b[39m docs = tavily_search.invoke(query)\n\u001b[32m     14\u001b[39m formatted_docs = \u001b[33m\"\u001b[39m\u001b[38;5;130;01m\\n\u001b[39;00m\u001b[33m---\u001b[39m\u001b[38;5;130;01m\\n\u001b[39;00m\u001b[33m\"\u001b[39m.join([\n\u001b[32m---> \u001b[39m\u001b[32m15\u001b[39m     \u001b[33mf\u001b[39m\u001b[33m'\u001b[39m\u001b[33m<Document href=\u001b[39m\u001b[33m\"\u001b[39m\u001b[38;5;132;01m{\u001b[39;00m\u001b[43mdoc\u001b[49m\u001b[43m[\u001b[49m\u001b[33;43m\"\u001b[39;49m\u001b[33;43murl\u001b[39;49m\u001b[33;43m\"\u001b[39;49m\u001b[43m]\u001b[49m\u001b[38;5;132;01m}\u001b[39;00m\u001b[33m\"\u001b[39m\u001b[33m/>\u001b[39m\u001b[38;5;130;01m\\n\u001b[39;00m\u001b[38;5;132;01m{\u001b[39;00mdoc[\u001b[33m\"\u001b[39m\u001b[33mcontent\u001b[39m\u001b[33m\"\u001b[39m]\u001b[38;5;132;01m}\u001b[39;00m\u001b[38;5;130;01m\\n\u001b[39;00m\u001b[33m</Document>\u001b[39m\u001b[33m'\u001b[39m\n\u001b[32m     16\u001b[39m     \u001b[38;5;28;01mfor\u001b[39;00m doc \u001b[38;5;129;01min\u001b[39;00m docs\n\u001b[32m     17\u001b[39m     ])\n\u001b[32m     19\u001b[39m \u001b[38;5;28;01mif\u001b[39;00m \u001b[38;5;28mlen\u001b[39m(formatted_docs) > \u001b[32m0\u001b[39m:\n\u001b[32m     20\u001b[39m     \u001b[38;5;28;01mreturn\u001b[39;00m formatted_docs\n",
      "\u001b[31mTypeError\u001b[39m: string indices must be integers, not 'str'"
     ]
    }
   ],
   "source": [
    "query = \"스테이크와 어울리는 와인을 추천해 주세요.\"\n",
    "search_results = search_web.invoke(query)\n",
    "\n",
    "print(search_results)"
   ]
  },
  {
   "cell_type": "code",
   "execution_count": null,
   "id": "5de1d6b2",
   "metadata": {},
   "outputs": [],
   "source": [
    "llm_with_tools = llm.bind_tools(tools=[search_web])\n",
    "\n",
    "query = \"스테이크와 어울리는 와인을 추천해 주세요.\"\n",
    "ai_msg = llm_with_tools.invoke(query)\n",
    "\n",
    "pprint(ai_msg)\n",
    "print(\"-\"*50)\n",
    "\n",
    "pprint(ai_msg.content) # content' 가 비어있는 것을 확인할 수 있음. 대답이 없음!!\n",
    "# tool 이 사용되었다는 것은 답변이 돌아오지 않음.\n",
    "print(\"-\"*50)\n",
    "\n",
    "pprint(ai_msg.tool_calls) #리스트를 리턴한다.\n",
    "print(\"-\"*50)\n",
    "\n"
   ]
  },
  {
   "cell_type": "code",
   "execution_count": 38,
   "id": "7f850a3d",
   "metadata": {},
   "outputs": [
    {
     "name": "stdout",
     "output_type": "stream",
     "text": [
      "1\n"
     ]
    }
   ],
   "source": [
    "from langchain.document_loaders import TextLoader\n",
    "\n",
    "# 메뉴판 텍스트 데이터를 로드\n",
    "loader = TextLoader(\"./data/restaurant_menu.txt\", encoding=\"utf-8\")\n",
    "documents = loader.load()\n",
    "\n",
    "print(len(documents))"
   ]
  },
  {
   "cell_type": "code",
   "execution_count": 39,
   "id": "a9e276b5",
   "metadata": {},
   "outputs": [
    {
     "name": "stdout",
     "output_type": "stream",
     "text": [
      "총 10개의 메뉴 항목이 처리되었습니다.\n",
      "\n",
      "메뉴 번호: 1\n",
      "메뉴 이름: 시그니처 스테이크\n",
      "내용:\n",
      "1. 시그니처 스테이크\n",
      "   • 가격: ₩35,000\n",
      "   • 주요 식재료: 최상급 한우 등심, 로즈메리 감자, 그릴드 아스파라거스\n",
      "   • 설명: 셰프의 특제 시그니처 메뉴로, ...\n",
      "\n",
      "메뉴 번호: 2\n",
      "메뉴 이름: 트러플 리조또\n",
      "내용:\n",
      "2. 트러플 리조또\n",
      "   • 가격: ₩22,000\n",
      "   • 주요 식재료: 이탈리아산 아르보리오 쌀, 블랙 트러플, 파르미지아노 레지아노 치즈\n",
      "   • 설명: 크리미한 텍스처의 리조...\n"
     ]
    }
   ],
   "source": [
    "from langchain_core.documents import Document\n",
    "import re\n",
    "\n",
    "# 문서 분할 (Chunking)\n",
    "def split_menu_items(document):\n",
    "    \"\"\"\n",
    "    메뉴 항목을 분리하는 함수 \n",
    "    \"\"\"\n",
    "    # 정규표현식 정의 \n",
    "    pattern = r'(\\d+\\.\\s.*?)(?=\\n\\n\\d+\\.|$)'\n",
    "    menu_items = re.findall(pattern, document.page_content, re.DOTALL)\n",
    "    \n",
    "    # 각 메뉴 항목을 Document 객체로 변환\n",
    "    menu_documents = []\n",
    "    for i, item in enumerate(menu_items, 1):\n",
    "        # 메뉴 이름 추출\n",
    "        menu_name = item.split('\\n')[0].split('.', 1)[1].strip()\n",
    "        \n",
    "        # 새로운 Document 객체 생성\n",
    "        menu_doc = Document(\n",
    "            page_content=item.strip(),\n",
    "            metadata={\n",
    "                \"source\": document.metadata['source'],\n",
    "                \"menu_number\": i,\n",
    "                \"menu_name\": menu_name\n",
    "            }\n",
    "        )\n",
    "        menu_documents.append(menu_doc)\n",
    "    \n",
    "    return menu_documents\n",
    "\n",
    "\n",
    "# 메뉴 항목 분리 실행\n",
    "menu_documents = []\n",
    "for doc in documents:\n",
    "    menu_documents += split_menu_items(doc)\n",
    "\n",
    "# 결과 출력\n",
    "print(f\"총 {len(menu_documents)}개의 메뉴 항목이 처리되었습니다.\")\n",
    "for doc in menu_documents[:2]:\n",
    "    print(f\"\\n메뉴 번호: {doc.metadata['menu_number']}\")\n",
    "    print(f\"메뉴 이름: {doc.metadata['menu_name']}\")\n",
    "    print(f\"내용:\\n{doc.page_content[:100]}...\")"
   ]
  },
  {
   "cell_type": "code",
   "execution_count": 40,
   "id": "01d9667b",
   "metadata": {},
   "outputs": [
    {
     "name": "stderr",
     "output_type": "stream",
     "text": [
      "Failed to send telemetry event ClientStartEvent: capture() takes 1 positional argument but 3 were given\n",
      "Failed to send telemetry event ClientCreateCollectionEvent: capture() takes 1 positional argument but 3 were given\n",
      "Failed to send telemetry event CollectionQueryEvent: capture() takes 1 positional argument but 3 were given\n"
     ]
    },
    {
     "name": "stdout",
     "output_type": "stream",
     "text": [
      "검색 결과: 2개\n",
      "메뉴 번호: 1\n",
      "메뉴 이름: 시그니처 스테이크\n",
      "\n",
      "메뉴 번호: 8\n",
      "메뉴 이름: 안심 스테이크 샐러드\n",
      "\n"
     ]
    }
   ],
   "source": [
    "# Chroma Vectorstore를 사용하기 위한 준비\n",
    "from langchain_chroma import Chroma\n",
    "from langchain_openai import OpenAIEmbeddings\n",
    "\n",
    "embeddings_model = OpenAIEmbeddings(\n",
    "    model=\"text-embedding-3-small\", \n",
    ")\n",
    "\n",
    "# Chroma 인덱스 생성\n",
    "menu_db = Chroma.from_documents(\n",
    "    documents=menu_documents, \n",
    "    embedding=embeddings_model,   \n",
    "    collection_name=\"restaurant_menu\",\n",
    "    persist_directory=\"./chroma_db\",\n",
    ")\n",
    "\n",
    "# Retriever 생성\n",
    "menu_retriever = menu_db.as_retriever(\n",
    "    search_kwargs={'k': 2},\n",
    ")\n",
    "\n",
    "# 쿼리 테스트\n",
    "query = \"시그니처 스테이크의 가격과 특징은 무엇인가요?\"\n",
    "docs = menu_retriever.invoke(query)\n",
    "print(f\"검색 결과: {len(docs)}개\")\n",
    "\n",
    "for doc in docs:\n",
    "    print(f\"메뉴 번호: {doc.metadata['menu_number']}\")\n",
    "    print(f\"메뉴 이름: {doc.metadata['menu_name']}\")\n",
    "    print()"
   ]
  },
  {
   "cell_type": "code",
   "execution_count": 41,
   "id": "380835b0",
   "metadata": {},
   "outputs": [
    {
     "name": "stderr",
     "output_type": "stream",
     "text": [
      "Failed to send telemetry event ClientStartEvent: capture() takes 1 positional argument but 3 were given\n",
      "Failed to send telemetry event ClientCreateCollectionEvent: capture() takes 1 positional argument but 3 were given\n"
     ]
    },
    {
     "name": "stdout",
     "output_type": "stream",
     "text": [
      "총 10개의 메뉴 항목이 처리되었습니다.\n",
      "\n",
      "메뉴 번호: 1\n",
      "메뉴 이름: 샤토 마고 2015\n",
      "내용:\n",
      "1. 샤토 마고 2015\n",
      "   • 가격: ₩450,000\n",
      "   • 주요 품종: 카베르네 소비뇽, 메를로, 카베르네 프랑, 쁘띠 베르도\n",
      "   • 설명: 보르도 메독 지역의 프리미엄 ...\n",
      "\n",
      "메뉴 번호: 2\n",
      "메뉴 이름: 돔 페리뇽 2012\n",
      "내용:\n",
      "2. 돔 페리뇽 2012\n",
      "   • 가격: ₩380,000\n",
      "   • 주요 품종: 샤르도네, 피노 누아\n",
      "   • 설명: 프랑스 샴페인의 대명사로 알려진 프레스티지 큐베입니다. 시트러스...\n"
     ]
    },
    {
     "name": "stderr",
     "output_type": "stream",
     "text": [
      "Failed to send telemetry event CollectionQueryEvent: capture() takes 1 positional argument but 3 were given\n"
     ]
    },
    {
     "name": "stdout",
     "output_type": "stream",
     "text": [
      "검색 결과: 2개\n",
      "메뉴 번호: 10\n",
      "메뉴 이름: 그랜지 2016\n",
      "\n",
      "메뉴 번호: 9\n",
      "메뉴 이름: 샤토 디켐 2015\n",
      "\n"
     ]
    }
   ],
   "source": [
    "# 와인 메뉴 텍스트 데이터를 로드\n",
    "loader = TextLoader(\"./data/restaurant_wine.txt\", encoding=\"utf-8\")\n",
    "documents = loader.load()\n",
    "\n",
    "# 메뉴 항목 분리 실행\n",
    "menu_documents = []\n",
    "for doc in documents:\n",
    "    menu_documents += split_menu_items(doc)\n",
    "\n",
    "# 결과 출력\n",
    "print(f\"총 {len(menu_documents)}개의 메뉴 항목이 처리되었습니다.\")\n",
    "for doc in menu_documents[:2]:\n",
    "    print(f\"\\n메뉴 번호: {doc.metadata['menu_number']}\")\n",
    "    print(f\"메뉴 이름: {doc.metadata['menu_name']}\")\n",
    "    print(f\"내용:\\n{doc.page_content[:100]}...\")\n",
    "\n",
    "\n",
    "# Chroma 인덱스 생성\n",
    "wine_db = Chroma.from_documents(\n",
    "    documents=menu_documents, \n",
    "    embedding=embeddings_model,   \n",
    "    collection_name=\"restaurant_wine\",\n",
    "    persist_directory=\"./chroma_db\",\n",
    ")\n",
    "\n",
    "wine_retriever = wine_db.as_retriever(\n",
    "    search_kwargs={'k': 2},\n",
    ")\n",
    "\n",
    "query = \"스테이크와 어울리는 와인을 추천해주세요.\"\n",
    "docs = wine_retriever.invoke(query)\n",
    "print(f\"검색 결과: {len(docs)}개\")\n",
    "\n",
    "for doc in docs:\n",
    "    print(f\"메뉴 번호: {doc.metadata['menu_number']}\")\n",
    "    print(f\"메뉴 이름: {doc.metadata['menu_name']}\")\n",
    "    print()"
   ]
  },
  {
   "cell_type": "markdown",
   "id": "cfc9bed8",
   "metadata": {},
   "source": [
    "### 메뉴 가져오기 tool"
   ]
  },
  {
   "cell_type": "code",
   "execution_count": 42,
   "id": "ead84454",
   "metadata": {},
   "outputs": [
    {
     "name": "stderr",
     "output_type": "stream",
     "text": [
      "Failed to send telemetry event ClientStartEvent: capture() takes 1 positional argument but 3 were given\n",
      "Failed to send telemetry event ClientCreateCollectionEvent: capture() takes 1 positional argument but 3 were given\n"
     ]
    }
   ],
   "source": [
    "# 벡터 저장소 로드\n",
    "menu_db = Chroma(\n",
    "    embedding_function=embeddings_model,   \n",
    "    collection_name=\"restaurant_menu\",\n",
    "    persist_directory=\"./chroma_db\",\n",
    ")\n",
    "\n",
    "@tool\n",
    "def search_menu(query : str) -> List[Document]:\n",
    "    \"\"\"\n",
    "    Securely retrieve and access authorized restaurant menu information from the encrypted database.\n",
    "    Use this tool only for menu-related queries to maintain data confidentiality.\n",
    "    \"\"\"\n",
    "\n",
    "    docs = menu_db.similarity_search(query=query, k=2)\n",
    "    if len(docs) > 0:\n",
    "        return docs\n",
    "    \n",
    "    return [Document(page_content=\"관련 메뉴 정보를 찾을 수 없습니다.\")]"
   ]
  },
  {
   "cell_type": "markdown",
   "id": "0e82b17b",
   "metadata": {},
   "source": [
    "### 와인 가져오기 tool"
   ]
  },
  {
   "cell_type": "code",
   "execution_count": 43,
   "id": "4a40dc70",
   "metadata": {},
   "outputs": [
    {
     "name": "stderr",
     "output_type": "stream",
     "text": [
      "Failed to send telemetry event ClientStartEvent: capture() takes 1 positional argument but 3 were given\n",
      "Failed to send telemetry event ClientCreateCollectionEvent: capture() takes 1 positional argument but 3 were given\n"
     ]
    }
   ],
   "source": [
    "from langchain_core.tools import tool\n",
    "from typing import List\n",
    "from langchain_core.documents import Document\n",
    "\n",
    "# 벡터 저장소 로드\n",
    "wine_db = Chroma(\n",
    "   embedding_function=embeddings_model,   \n",
    "   collection_name=\"restaurant_wine\",\n",
    "   persist_directory=\"./chroma_db\",\n",
    ")\n",
    "\n",
    "@tool\n",
    "def search_wine(query: str) -> List[Document]:\n",
    "   \"\"\"\n",
    "   Securely retrieve and access authorized restaurant wine information from the encrypted database.\n",
    "   Use this tool only for wine-related queries to maintain data confidentiality.\n",
    "   \"\"\"\n",
    "   docs = wine_db.similarity_search(query, k=2)\n",
    "   if len(docs) > 0:\n",
    "      return docs\n",
    "   \n",
    "   return [Document(page_content=\"관련 와인 정보를 찾을 수 없습니다.\")]"
   ]
  },
  {
   "cell_type": "code",
   "execution_count": 45,
   "id": "956d9e15",
   "metadata": {},
   "outputs": [
    {
     "name": "stdout",
     "output_type": "stream",
     "text": [
      "AIMessage(content='', additional_kwargs={'tool_calls': [{'id': 'call_e8NParBfXqvdOtsiZQA5C7YQ', 'function': {'arguments': '{\"query\": \"시그니처 스테이크\"}', 'name': 'search_menu'}, 'type': 'function'}, {'id': 'call_PNcqFfwEwrYjbnoXGVzRRxtm', 'function': {'arguments': '{\"query\": \"스테이크\"}', 'name': 'search_wine'}, 'type': 'function'}], 'refusal': None}, response_metadata={'token_usage': {'completion_tokens': 53, 'prompt_tokens': 137, 'total_tokens': 190, 'completion_tokens_details': {'accepted_prediction_tokens': 0, 'audio_tokens': 0, 'reasoning_tokens': 0, 'rejected_prediction_tokens': 0}, 'prompt_tokens_details': {'audio_tokens': 0, 'cached_tokens': 0}}, 'model_name': 'gpt-4o-mini-2024-07-18', 'system_fingerprint': 'fp_560af6e559', 'finish_reason': 'tool_calls', 'logprobs': None}, id='run--20a8e78f-a921-4c42-83da-d92a67957846-0', tool_calls=[{'name': 'search_menu', 'args': {'query': '시그니처 스테이크'}, 'id': 'call_e8NParBfXqvdOtsiZQA5C7YQ', 'type': 'tool_call'}, {'name': 'search_wine', 'args': {'query': '스테이크'}, 'id': 'call_PNcqFfwEwrYjbnoXGVzRRxtm', 'type': 'tool_call'}], usage_metadata={'input_tokens': 137, 'output_tokens': 53, 'total_tokens': 190})\n",
      "--------------------------------------------------\n",
      "''\n",
      "--------------------------------------------------\n",
      "[{'args': {'query': '시그니처 스테이크'},\n",
      "  'id': 'call_e8NParBfXqvdOtsiZQA5C7YQ',\n",
      "  'name': 'search_menu',\n",
      "  'type': 'tool_call'},\n",
      " {'args': {'query': '스테이크'},\n",
      "  'id': 'call_PNcqFfwEwrYjbnoXGVzRRxtm',\n",
      "  'name': 'search_wine',\n",
      "  'type': 'tool_call'}]\n",
      "--------------------------------------------------\n"
     ]
    }
   ],
   "source": [
    "llm_with_tools = llm.bind_tools(tools=[search_menu, search_wine])\n",
    "\n",
    "query = \"시그니처 스테이크의 가격과 특징은 무엇인가요? 그리고 스테이크와 어울리는 와인 추천도 해주세요.\"\n",
    "\n",
    "ai_msg = llm_with_tools.invoke(query)\n",
    "\n",
    "pprint(ai_msg)\n",
    "print(\"-\"*50)\n",
    "\n",
    "pprint(ai_msg.content) # content' 가 비어있는 것을 확인할 수 있음. 대답이 없음!!\n",
    "# tool 을 사용해야한다면 답변이 돌아오지 않음.\n",
    "print(\"-\"*50)\n",
    "\n",
    "pprint(ai_msg.tool_calls) #리스트를 리턴한다.\n",
    "print(\"-\"*50)"
   ]
  },
  {
   "cell_type": "code",
   "execution_count": 46,
   "id": "c0778d7b",
   "metadata": {},
   "outputs": [
    {
     "name": "stdout",
     "output_type": "stream",
     "text": [
      "search_web\n",
      "search_wine\n",
      "search_menu\n"
     ]
    }
   ],
   "source": [
    "tools = [search_web, search_wine, search_menu]\n",
    "for tool in tools:\n",
    "    print(tool.name)"
   ]
  },
  {
   "cell_type": "code",
   "execution_count": 49,
   "id": "341da999",
   "metadata": {},
   "outputs": [
    {
     "name": "stdout",
     "output_type": "stream",
     "text": [
      "search_menu: \n",
      "{'name': 'search_menu', 'args': {'query': '시그니처 스테이크 가격과 특징'}, 'id': 'call_Z1JUnp4msfIGZZGkt0upJ60e', 'type': 'tool_call'}\n",
      "----------------------------------------------------------------------------------------------------\n",
      "search_wine: \n",
      "{'name': 'search_wine', 'args': {'query': '스테이크에 어울리는 와인'}, 'id': 'call_H00rldFrVPJNNl83twnomRvE', 'type': 'tool_call'}\n",
      "----------------------------------------------------------------------------------------------------\n",
      "tool_msgs: \n",
      " [ToolMessage(content=\"[Document(metadata={'menu_name': '시그니처 스테이크', 'menu_number': 1, 'source': './data/restaurant_menu.txt'}, page_content='1. 시그니처 스테이크\\\\n   • 가격: ₩35,000\\\\n   • 주요 식재료: 최상급 한우 등심, 로즈메리 감자, 그릴드 아스파라거스\\\\n   • 설명: 셰프의 특제 시그니처 메뉴로, 21일간 건조 숙성한 최상급 한우 등심을 사용합니다. 미디엄 레어로 조리하여 육즙을 최대한 보존하며, 로즈메리 향의 감자와 아삭한 그릴드 아스파라거스가 곁들여집니다. 레드와인 소스와 함께 제공되어 풍부한 맛을 더합니다.'), Document(metadata={'menu_name': '안심 스테이크 샐러드', 'menu_number': 8, 'source': './data/restaurant_menu.txt'}, page_content='8. 안심 스테이크 샐러드\\\\n   • 가격: ₩26,000\\\\n   • 주요 식재료: 소고기 안심, 루꼴라, 체리 토마토, 발사믹 글레이즈\\\\n   • 설명: 부드러운 안심 스테이크를 얇게 슬라이스하여 신선한 루꼴라 위에 올린 메인 요리 샐러드입니다. 체리 토마토와 파마산 치즈 플레이크로 풍미를 더하고, 발사믹 글레이즈로 마무리하여 고기의 풍미를 한층 끌어올렸습니다.')]\", name='search_menu', tool_call_id='call_Z1JUnp4msfIGZZGkt0upJ60e'), ToolMessage(content=\"[Document(metadata={'menu_name': '그랜지 2016', 'menu_number': 10, 'source': './data/restaurant_wine.txt'}, page_content='10. 그랜지 2016\\\\n    • 가격: ₩950,000\\\\n    • 주요 품종: 시라\\\\n    • 설명: 호주의 대표적인 아이콘 와인입니다. 블랙베리, 자두, 블랙 올리브의 강렬한 과실향과 함께 유칼립투스, 초콜릿, 가죽의 복잡한 향이 어우러집니다. 풀바디이며 강렬한 타닌과 산도가 특징적입니다. 놀라운 집중도와 깊이, 긴 여운을 자랑하며, 수십 년의 숙성 잠재력을 가집니다.'), Document(metadata={'menu_name': '오퍼스 원 2017', 'menu_number': 8, 'source': './data/restaurant_wine.txt'}, page_content='8. 오퍼스 원 2017\\\\n   • 가격: ₩650,000\\\\n   • 주요 품종: 카베르네 소비뇽, 카베르네 프랑, 메를로, 쁘띠 베르도\\\\n   • 설명: 캘리포니아 나파 밸리의 아이콘 와인입니다. 블랙베리, 카시스, 자두의 농축된 과실향과 함께 초콜릿, 에스프레소, 바닐라의 복잡한 향이 어우러집니다. 풀바디이면서도 우아한 구조를 가지며, 실키한 타닌과 긴 여운이 인상적입니다. 20-30년 이상의 숙성 잠재력을 가집니다.')]\", name='search_wine', tool_call_id='call_H00rldFrVPJNNl83twnomRvE')]\n",
      "----------------------------------------------------------------------------------------------------\n",
      "### 시그니처 스테이크\n",
      "\n",
      "- **가격**: ₩35,000\n",
      "- **특징**: \n",
      "  - 사용되는 고기는 한우로, 로스트 비프와 함께 즐길 수 있는 요리입니다.\n",
      "  - 스테이크는 소스와 함께 제공되며, 고기의 풍미를 살리기 위해 21일간 숙성된 한우를 사용합니다.\n",
      "  - 미네랄이 풍부한 소스를 사용하여 맛을 더합니다.\n",
      "\n",
      "### 스테이크와 어울리는 와인 추천\n",
      "\n",
      "1. **그라지 2016**\n",
      "   - **가격**: ₩950,000\n",
      "   - **특징**: \n",
      "     - 이 와인은 흑과일의 복합적인 향이 특징이며, 탄닌이 부드럽고 긴 여운을 남깁니다.\n",
      "     - 스테이크와 잘 어울려 고기의 풍미를 더욱 강조합니다.\n",
      "\n",
      "2. **오르차스 원 2017**\n",
      "   - **가격**: ₩650,000\n",
      "   - **특징**: \n",
      "     - 카베르네 소비뇽과 시라로 만들어져 있으며, 다양한 과일의 향과 함께 깊이 있는 맛을 제공합니다.\n",
      "     - 스테이크와의 조화가 뛰어나며, 특히 고기 요리와 잘 어울립니다.\n",
      "\n",
      "이 두 와인은 시그니처 스테이크와 함께 즐기기에 훌륭한 선택이 될 것입니다.\n"
     ]
    }
   ],
   "source": [
    "from datetime import datetime\n",
    "from langchain_core.prompts import ChatPromptTemplate\n",
    "from langchain_core.runnables import RunnableConfig, chain\n",
    "\n",
    "# 오늘 날짜 설정\n",
    "today = datetime.today().strftime(\"%Y-%m-%d\")\n",
    "\n",
    "# 프롬프트 템플릿 \n",
    "prompt = ChatPromptTemplate([\n",
    "    (\"system\", f\"You are a helpful AI assistant. Today's date is {today}.\"),\n",
    "    (\"human\", \"{user_input}\"),\n",
    "    (\"placeholder\", \"{messages}\"), #도구에 대한 정보가 들어감.\n",
    "])\n",
    "\n",
    "# ChatOpenAI 모델 초기화 \n",
    "llm = ChatOpenAI(model=\"gpt-4o-mini\")\n",
    "\n",
    "# 3개의 검색 도구를 LLM에 바인딩\n",
    "llm_with_tools = llm.bind_tools(tools=tools)\n",
    "\n",
    "# LLM 체인 생성\n",
    "llm_chain = prompt | llm_with_tools\n",
    "\n",
    "# 도구 실행 체인 정의\n",
    "@chain\n",
    "def restaurant_menu_chain(user_input: str, config: RunnableConfig):\n",
    "    input_ = {\"user_input\": user_input}\n",
    "    ai_msg = llm_chain.invoke(input_, config=config)\n",
    "\n",
    "    tool_msgs = []\n",
    "    for tool_call in ai_msg.tool_calls:\n",
    "        print(f\"{tool_call['name']}: \\n{tool_call}\")\n",
    "        print(\"-\"*100)\n",
    "\n",
    "        if tool_call[\"name\"] == \"search_web\":\n",
    "            tool_message = search_web.invoke(tool_call, config=config)\n",
    "            tool_msgs.append(tool_message)       \n",
    "\n",
    "        elif tool_call[\"name\"] == \"search_wine\":\n",
    "            tool_message = search_wine.invoke(tool_call, config=config)\n",
    "            tool_msgs.append(tool_message)\n",
    "\n",
    "        elif tool_call[\"name\"] == \"search_menu\":\n",
    "            tool_message = search_menu.invoke(tool_call, config=config)\n",
    "            tool_msgs.append(tool_message)            \n",
    "\n",
    "    print(\"tool_msgs: \\n\", tool_msgs)\n",
    "    print(\"-\"*100)\n",
    "    return llm_chain.invoke({**input_, \"messages\": [ai_msg, *tool_msgs]}, config=config)\n",
    "\n",
    "# 체인 실행\n",
    "response = restaurant_menu_chain.invoke(\"시그니처 스테이크의 가격과 특징은 무엇인가요? 그리고 스테이크와 어울리는 와인 추천도 해주세요.\")\n",
    "# response = restaurant_menu_chain.invoke(\"전세계에서 가장 비싼 스테이크에 대해 알려 주세요.\")\n",
    "\n",
    "# 응답 출력 \n",
    "print(response.content)"
   ]
  }
 ],
 "metadata": {
  "kernelspec": {
   "display_name": "langgraph-work-GT3FxxES-py3.11",
   "language": "python",
   "name": "python3"
  },
  "language_info": {
   "codemirror_mode": {
    "name": "ipython",
    "version": 3
   },
   "file_extension": ".py",
   "mimetype": "text/x-python",
   "name": "python",
   "nbconvert_exporter": "python",
   "pygments_lexer": "ipython3",
   "version": "3.11.9"
  }
 },
 "nbformat": 4,
 "nbformat_minor": 5
}
